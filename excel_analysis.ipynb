{
 "cells": [
  {
   "cell_type": "code",
   "execution_count": 1,
   "id": "3b75e144",
   "metadata": {},
   "outputs": [],
   "source": [
    "# imports libraries\n",
    "import pandas as pd\n",
    "import numpy as np\n",
    "from transformers import pipeline\n",
    "from tqdm import tqdm"
   ]
  },
  {
   "cell_type": "code",
   "execution_count": 2,
   "id": "82b74470",
   "metadata": {},
   "outputs": [],
   "source": [
    "# 1. قراءة الملف\n",
    "df = pd.read_excel(\"data/amazon_product_reviews.xlsx\", sheet_name=0, engine='openpyxl')"
   ]
  },
  {
   "cell_type": "code",
   "execution_count": null,
   "id": "bd40510e",
   "metadata": {},
   "outputs": [],
   "source": [
    "# 2. تنظيف بسيط\n",
    "df.drop_duplicates(inplace=True)\n",
    "# تحويل أعمدة رقمية إن احتجت:\n",
    "# df['Sales'] = pd.to_numeric(df['Sales'], errors='coerce')\n",
    "\n",
    "# 3. EDA موجز\n",
    "print(df.shape)\n",
    "display(df.head())\n",
    "display(df.describe(include='all'))\n",
    "print(df['Category'].value_counts().head(10))\n",
    "\n",
    "# # 4. إنشاء عمود نصي موحّد (إن لم يوجد)\n",
    "# text_cols = []\n",
    "# # مثال: إن كان عندك أعمدة اسم المنتج و وصف و تعليق\n",
    "# for c in ['product_name','description','comment']:\n",
    "#     if c in df.columns:\n",
    "#         text_cols.append(c)\n",
    "\n",
    "# if not text_cols:\n",
    "#     # لو ما في أعمدة معروفة: نستعمل كل الأعمدة النصية\n",
    "#     text_cols = df.select_dtypes(include='object').columns.tolist()\n",
    "\n",
    "# df['combined_text'] = df[text_cols].fillna('').astype(str).agg(' | '.join, axis=1)\n",
    "\n",
    "# # 5. Sentiment analysis (مثال: إنجليزي) - قد تختار موديل متعدد اللغات لو بياناتك عربية\n",
    "# sentiment_model = pipeline(\"sentiment-analysis\", model=\"nlptown/bert-base-multilingual-uncased-sentiment\")\n",
    "# sentiments = []\n",
    "# for txt in tqdm(df['combined_text'].fillna('').tolist()):\n",
    "#     if txt.strip()=='':\n",
    "#         sentiments.append({'label':None,'score':None})\n",
    "#     else:\n",
    "#         res = sentiment_model(txt[:512])[0]  # تقطيع للطول لسلامة الذاكرة\n",
    "#         sentiments.append(res)\n",
    "\n",
    "# df['sentiment_label'] = [s['label'] if s else None for s in sentiments]\n",
    "# df['sentiment_score'] = [s['score'] if s else None for s in sentiments]\n",
    "\n",
    "# # 6. حفظ الملف المعدّل\n",
    "# df.to_excel(\"data/modified_data.xlsx\", index=False, engine='openpyxl')\n"
   ]
  }
 ],
 "metadata": {
  "kernelspec": {
   "display_name": "base",
   "language": "python",
   "name": "python3"
  },
  "language_info": {
   "codemirror_mode": {
    "name": "ipython",
    "version": 3
   },
   "file_extension": ".py",
   "mimetype": "text/x-python",
   "name": "python",
   "nbconvert_exporter": "python",
   "pygments_lexer": "ipython3",
   "version": "3.13.5"
  }
 },
 "nbformat": 4,
 "nbformat_minor": 5
}
